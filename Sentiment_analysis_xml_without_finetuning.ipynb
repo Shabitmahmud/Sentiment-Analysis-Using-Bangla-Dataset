{
 "cells": [
  {
   "cell_type": "code",
   "execution_count": 1,
   "id": "0015dab3",
   "metadata": {},
   "outputs": [
    {
     "name": "stderr",
     "output_type": "stream",
     "text": [
      "Some weights of the model checkpoint at xlm-roberta-base were not used when initializing XLMRobertaForSequenceClassification: ['lm_head.dense.bias', 'roberta.pooler.dense.bias', 'lm_head.layer_norm.weight', 'lm_head.decoder.weight', 'roberta.pooler.dense.weight', 'lm_head.bias', 'lm_head.layer_norm.bias', 'lm_head.dense.weight']\n",
      "- This IS expected if you are initializing XLMRobertaForSequenceClassification from the checkpoint of a model trained on another task or with another architecture (e.g. initializing a BertForSequenceClassification model from a BertForPreTraining model).\n",
      "- This IS NOT expected if you are initializing XLMRobertaForSequenceClassification from the checkpoint of a model that you expect to be exactly identical (initializing a BertForSequenceClassification model from a BertForSequenceClassification model).\n",
      "Some weights of XLMRobertaForSequenceClassification were not initialized from the model checkpoint at xlm-roberta-base and are newly initialized: ['classifier.dense.weight', 'classifier.out_proj.weight', 'classifier.dense.bias', 'classifier.out_proj.bias']\n",
      "You should probably TRAIN this model on a down-stream task to be able to use it for predictions and inference.\n"
     ]
    },
    {
     "name": "stdout",
     "output_type": "stream",
     "text": [
      "Sentence: বাংলাদেশ একটি সুন্দর দেশ\n",
      "Sentiment: positive\n",
      "Positive Percentage: 59.09%\n",
      "Negative Percentage: 40.91%\n",
      "\n",
      "\n",
      "Sentence:  এখানে সুন্দর প্রদেশের দৃশ্য, সহনীয় মানুষ, এবং প্রাচীন ঐতিহ্য রয়েছে\n",
      "Sentiment: positive\n",
      "Positive Percentage: 58.82%\n",
      "Negative Percentage: 41.18%\n",
      "\n",
      "\n",
      "Sentence:  বাংলাদেশে বর্ষা আসলে সবকিছু সবুজে লিপটে যায়\n",
      "Sentiment: positive\n",
      "Positive Percentage: 59.08%\n",
      "Negative Percentage: 40.92%\n",
      "\n",
      "\n",
      "Sentence:  এখানে পাট, জুতা, তাঁত, বাংলাদেশের প্রধান কৃষি ও শিল্পক্ষেত্রের প্রধান আয়োর উৎস\n",
      "Sentiment: positive\n",
      "Positive Percentage: 59.04%\n",
      "Negative Percentage: 40.96%\n",
      "\n",
      "\n"
     ]
    }
   ],
   "source": [
    "import re\n",
    "from transformers import AutoTokenizer, AutoModelForSequenceClassification\n",
    "import torch\n",
    "\n",
    "# Initialize the tokenizer and load the pre-trained XLM-RoBERTa model\n",
    "tokenizer = AutoTokenizer.from_pretrained(\"xlm-roberta-base\")\n",
    "model = AutoModelForSequenceClassification.from_pretrained(\"xlm-roberta-base\", num_labels=2)\n",
    "\n",
    "# Input paragraph\n",
    "input_paragraph = \"বাংলাদেশ একটি সুন্দর দেশ। এখানে সুন্দর প্রদেশের দৃশ্য, সহনীয় মানুষ, এবং প্রাচীন ঐতিহ্য রয়েছে। বাংলাদেশে বর্ষা আসলে সবকিছু সবুজে লিপটে যায়। এখানে পাট, জুতা, তাঁত, বাংলাদেশের প্রধান কৃষি ও শিল্পক্ষেত্রের প্রধান আয়োর উৎস।\"\n",
    "\n",
    "# Split the paragraph into sentences using \"।\" and \"?\"\n",
    "sentences = re.split(r'[।?]', input_paragraph)\n",
    "\n",
    "# Define a function to get sentiment, positive percentage, and negative percentage for a sentence\n",
    "def get_sentiment_and_percentages(input_text):\n",
    "    tokenized_input = tokenizer(input_text, padding=True, truncation=True, max_length=128, return_tensors=\"pt\")\n",
    "    output = model(**tokenized_input, return_dict=True)\n",
    "\n",
    "    # Get the probability distribution over classes\n",
    "    probabilities = torch.softmax(output.logits, dim=1)\n",
    "    positive_percentage = probabilities[0, 1].item() * 100  # Percentage for positive class\n",
    "    negative_percentage = probabilities[0, 0].item() * 100  # Percentage for negative class\n",
    "\n",
    "    # Map the predicted label to sentiment\n",
    "    predicted_label = output.logits.argmax().item()\n",
    "    sentiment_mapping = {0: \"negative\", 1: \"positive\"}\n",
    "    sentiment = sentiment_mapping[predicted_label]\n",
    "\n",
    "    return sentiment, positive_percentage, negative_percentage\n",
    "\n",
    "# Analyze the sentiment, positive percentage, and negative percentage of each sentence\n",
    "for sentence in sentences:\n",
    "    # Skip empty sentences\n",
    "    if not sentence.strip():\n",
    "        continue\n",
    "\n",
    "    sentiment, positive_percentage, negative_percentage = get_sentiment_and_percentages(sentence)\n",
    "    print(f\"Sentence: {sentence}\")\n",
    "    print(f\"Sentiment: {sentiment}\")\n",
    "    print(f\"Positive Percentage: {positive_percentage:.2f}%\")\n",
    "    print(f\"Negative Percentage: {negative_percentage:.2f}%\")\n",
    "    print(\"\\n\")\n"
   ]
  },
  {
   "cell_type": "code",
   "execution_count": null,
   "id": "05e1222e",
   "metadata": {},
   "outputs": [],
   "source": []
  }
 ],
 "metadata": {
  "kernelspec": {
   "display_name": "Python 3 (ipykernel)",
   "language": "python",
   "name": "python3"
  },
  "language_info": {
   "codemirror_mode": {
    "name": "ipython",
    "version": 3
   },
   "file_extension": ".py",
   "mimetype": "text/x-python",
   "name": "python",
   "nbconvert_exporter": "python",
   "pygments_lexer": "ipython3",
   "version": "3.10.9"
  }
 },
 "nbformat": 4,
 "nbformat_minor": 5
}

{
 "cells": [
  {
   "cell_type": "code",
   "execution_count": 2,
   "id": "7c3fb8ef",
   "metadata": {},
   "outputs": [
    {
     "name": "stderr",
     "output_type": "stream",
     "text": [
      "Some weights of the model checkpoint at bert-base-multilingual-cased were not used when initializing BertForSequenceClassification: ['cls.predictions.decoder.weight', 'cls.seq_relationship.bias', 'cls.predictions.transform.LayerNorm.weight', 'cls.predictions.transform.dense.bias', 'cls.seq_relationship.weight', 'cls.predictions.transform.dense.weight', 'cls.predictions.bias', 'cls.predictions.transform.LayerNorm.bias']\n",
      "- This IS expected if you are initializing BertForSequenceClassification from the checkpoint of a model trained on another task or with another architecture (e.g. initializing a BertForSequenceClassification model from a BertForPreTraining model).\n",
      "- This IS NOT expected if you are initializing BertForSequenceClassification from the checkpoint of a model that you expect to be exactly identical (initializing a BertForSequenceClassification model from a BertForSequenceClassification model).\n",
      "Some weights of BertForSequenceClassification were not initialized from the model checkpoint at bert-base-multilingual-cased and are newly initialized: ['classifier.weight', 'classifier.bias']\n",
      "You should probably TRAIN this model on a down-stream task to be able to use it for predictions and inference.\n"
     ]
    },
    {
     "name": "stdout",
     "output_type": "stream",
     "text": [
      "Sentence: বাংলাদেশ একটি সুন্দর দেশ\n",
      "Sentiment: negative\n",
      "Positive Percentage: 43.30%\n",
      "Negative Percentage: 56.70%\n",
      "\n",
      "\n",
      "Sentence:  এখানে সুন্দর প্রদেশের দৃশ্য, সহনীয় মানুষ, এবং প্রাচীন ঐতিহ্য রয়েছে\n",
      "Sentiment: negative\n",
      "Positive Percentage: 40.44%\n",
      "Negative Percentage: 59.56%\n",
      "\n",
      "\n",
      "Sentence:  বাংলাদেশে বর্ষা আসলে সবকিছু সবুজে লিপটে যায়\n",
      "Sentiment: negative\n",
      "Positive Percentage: 41.07%\n",
      "Negative Percentage: 58.93%\n",
      "\n",
      "\n",
      "Sentence:  এখানে পাট, জুতা, তাঁত, বাংলাদেশের প্রধান কৃষি ও শিল্পক্ষেত্রের প্রধান আয়োর উৎস\n",
      "Sentiment: negative\n",
      "Positive Percentage: 41.25%\n",
      "Negative Percentage: 58.75%\n",
      "\n",
      "\n"
     ]
    }
   ],
   "source": [
    "from transformers import BertTokenizer, BertForSequenceClassification\n",
    "import torch\n",
    "import re\n",
    "\n",
    "# Initialize the tokenizer and load the pre-trained BERT model\n",
    "tokenizer = BertTokenizer.from_pretrained(\"bert-base-multilingual-cased\")\n",
    "model = BertForSequenceClassification.from_pretrained(\"bert-base-multilingual-cased\", num_labels=2)  # Assuming you have 2 sentiment labels (positive and negative)\n",
    "\n",
    "# Input paragraph\n",
    "input_paragraph = \"বাংলাদেশ একটি সুন্দর দেশ। এখানে সুন্দর প্রদেশের দৃশ্য, সহনীয় মানুষ, এবং প্রাচীন ঐতিহ্য রয়েছে। বাংলাদেশে বর্ষা আসলে সবকিছু সবুজে লিপটে যায়। এখানে পাট, জুতা, তাঁত, বাংলাদেশের প্রধান কৃষি ও শিল্পক্ষেত্রের প্রধান আয়োর উৎস।\"\n",
    "\n",
    "# Split the paragraph into sentences using \"।\" and \"?\"\n",
    "sentences = re.split(r'[।?]', input_paragraph)\n",
    "\n",
    "# Define a function to get sentiment, positive percentage, and negative percentage for a sentence\n",
    "def get_sentiment_and_percentages(input_text):\n",
    "    tokenized_input = tokenizer(input_text, padding=True, truncation=True, max_length=128, return_tensors=\"pt\")\n",
    "    output = model(**tokenized_input, return_dict=True)\n",
    "\n",
    "    # Get the probability distribution over classes\n",
    "    probabilities = torch.softmax(output.logits, dim=1)\n",
    "    positive_percentage = probabilities[0, 1].item() * 100  # Percentage for positive class\n",
    "    negative_percentage = probabilities[0, 0].item() * 100  # Percentage for negative class\n",
    "\n",
    "    # Map the predicted label to sentiment\n",
    "    predicted_label = output.logits.argmax().item()\n",
    "    sentiment_mapping = {0: \"negative\", 1: \"positive\"}\n",
    "    sentiment = sentiment_mapping[predicted_label]\n",
    "\n",
    "    return sentiment, positive_percentage, negative_percentage\n",
    "\n",
    "# Analyze the sentiment, positive percentage, and negative percentage of each sentence\n",
    "for sentence in sentences:\n",
    "    # Skip empty sentences\n",
    "    if not sentence.strip():\n",
    "        continue\n",
    "\n",
    "    sentiment, positive_percentage, negative_percentage = get_sentiment_and_percentages(sentence)\n",
    "    print(f\"Sentence: {sentence}\")\n",
    "    print(f\"Sentiment: {sentiment}\")\n",
    "    print(f\"Positive Percentage: {positive_percentage:.2f}%\")\n",
    "    print(f\"Negative Percentage: {negative_percentage:.2f}%\")\n",
    "    print(\"\\n\")"
   ]
  },
  {
   "cell_type": "code",
   "execution_count": null,
   "id": "18f973b1",
   "metadata": {},
   "outputs": [],
   "source": []
  }
 ],
 "metadata": {
  "kernelspec": {
   "display_name": "Python 3 (ipykernel)",
   "language": "python",
   "name": "python3"
  },
  "language_info": {
   "codemirror_mode": {
    "name": "ipython",
    "version": 3
   },
   "file_extension": ".py",
   "mimetype": "text/x-python",
   "name": "python",
   "nbconvert_exporter": "python",
   "pygments_lexer": "ipython3",
   "version": "3.10.9"
  }
 },
 "nbformat": 4,
 "nbformat_minor": 5
}
